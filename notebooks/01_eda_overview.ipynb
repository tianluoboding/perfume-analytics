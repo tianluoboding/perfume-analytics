{
 "cells": [
  {
   "cell_type": "code",
   "execution_count": 1,
   "id": "d0e2db1d-ac2d-4beb-936b-1d00615c29c3",
   "metadata": {},
   "outputs": [
    {
     "name": "stdout",
     "output_type": "stream",
     "text": [
      "<class 'pandas.core.frame.DataFrame'>\n",
      "RangeIndex: 29917 entries, 0 to 29916\n",
      "Data columns (total 58 columns):\n",
      " #   Column                           Non-Null Count  Dtype  \n",
      "---  ------                           --------------  -----  \n",
      " 0   Order ID                         29917 non-null  int64  \n",
      " 1   Order Status                     29917 non-null  object \n",
      " 2   Order Substatus                  29917 non-null  object \n",
      " 3   Cancelation/Return Type          1073 non-null   object \n",
      " 4   Normal or Pre-order              29225 non-null  object \n",
      " 5   SKU ID                           29917 non-null  int64  \n",
      " 6   Seller SKU                       11316 non-null  object \n",
      " 7   Product Name                     29917 non-null  object \n",
      " 8   Variation                        29917 non-null  object \n",
      " 9   Quantity                         29917 non-null  int64  \n",
      " 10  Sku Quantity of return           29917 non-null  int64  \n",
      " 11  SKU Unit Original Price          29917 non-null  float64\n",
      " 12  SKU Subtotal Before Discount     29917 non-null  float64\n",
      " 13  SKU Platform Discount            29917 non-null  float64\n",
      " 14  SKU Seller Discount              29917 non-null  float64\n",
      " 15  SKU Subtotal After Discount      29917 non-null  float64\n",
      " 16  Shipping Fee After Discount      29917 non-null  float64\n",
      " 17  Original Shipping Fee            29917 non-null  float64\n",
      " 18  Shipping Fee Seller Discount     29917 non-null  float64\n",
      " 19  Co-Funded Shipping Fee Discount  29917 non-null  float64\n",
      " 20  Shipping Fee Platform Discount   29917 non-null  float64\n",
      " 21  Payment platform discount        61 non-null     float64\n",
      " 22  Retail Delivery Fee              29917 non-null  float64\n",
      " 23  Taxes                            29917 non-null  float64\n",
      " 24  Order Amount                     29917 non-null  float64\n",
      " 25  Order Refund Amount              1082 non-null   float64\n",
      " 26  Created Time                     29917 non-null  object \n",
      " 27  Paid Time                        29917 non-null  object \n",
      " 28  RTS Time                         29917 non-null  object \n",
      " 29  Shipped Time                     29917 non-null  object \n",
      " 30  Delivered Time                   29917 non-null  object \n",
      " 31  Cancelled Time                   29917 non-null  object \n",
      " 32  Cancel By                        847 non-null    object \n",
      " 33  Cancel Reason                    847 non-null    object \n",
      " 34  Fulfillment Type                 29917 non-null  object \n",
      " 35  Warehouse Name                   29917 non-null  object \n",
      " 36  Tracking ID                      28377 non-null  object \n",
      " 37  Delivery Option Type             29916 non-null  object \n",
      " 38  Delivery Option                  29916 non-null  object \n",
      " 39  Shipping Provider Name           0 non-null      float64\n",
      " 40  Buyer Message                    15 non-null     object \n",
      " 41  Buyer Username                   29891 non-null  object \n",
      " 42  Recipient                        29916 non-null  object \n",
      " 43  Phone #                          29916 non-null  object \n",
      " 44  Country                          29916 non-null  object \n",
      " 45  State                            29916 non-null  object \n",
      " 46  City                             29916 non-null  object \n",
      " 47  Zipcode                          29917 non-null  object \n",
      " 48  Address Line 1                   29916 non-null  object \n",
      " 49  Address Line 2                   4930 non-null   object \n",
      " 50  Delivery Instruction             5228 non-null   object \n",
      " 51  Payment Method                   29214 non-null  object \n",
      " 52  Weight(kg)                       29917 non-null  float64\n",
      " 53  Product Category                 29917 non-null  object \n",
      " 54  Package ID                       29917 non-null  object \n",
      " 55  Seller Note                      0 non-null      float64\n",
      " 56  Shipping Information             29916 non-null  object \n",
      " 57  Combined Listing                 5874 non-null   object \n",
      "dtypes: float64(18), int64(4), object(36)\n",
      "memory usage: 13.2+ MB\n",
      "日期范围: 05/07/2025 10:00:14 PM\t → 06/04/2025 9:59:53 AM\t\n"
     ]
    },
    {
     "data": {
      "text/plain": [
       "Shipping Provider Name       29917\n",
       "Seller Note                  29917\n",
       "Buyer Message                29902\n",
       "Payment platform discount    29856\n",
       "Cancel Reason                29070\n",
       "Cancel By                    29070\n",
       "Cancelation/Return Type      28844\n",
       "Order Refund Amount          28835\n",
       "Address Line 2               24987\n",
       "Delivery Instruction         24689\n",
       "Combined Listing             24043\n",
       "Seller SKU                   18601\n",
       "Tracking ID                   1540\n",
       "Payment Method                 703\n",
       "Normal or Pre-order            692\n",
       "dtype: int64"
      ]
     },
     "execution_count": 1,
     "metadata": {},
     "output_type": "execute_result"
    }
   ],
   "source": [
    "import pandas as pd\n",
    "\n",
    "csv_path = \"/Users/shuooo/Documents/JOBS/sellery.inc/Perfume_projects/AllOrder_0701.csv\"\n",
    "df = pd.read_csv(csv_path, encoding=\"utf-8\")\n",
    "\n",
    "df.head()\n",
    "df.info()\n",
    "df.describe()\n",
    "\n",
    "print(\"日期范围:\", df['Created Time'].min(), \"→\", df['Created Time'].max())\n",
    "missing = df.isna().sum().sort_values(ascending=False)\n",
    "missing.head(15)"
   ]
  },
  {
   "cell_type": "code",
   "execution_count": null,
   "id": "fad154ef-85fb-4806-84e0-dd3d43f093bf",
   "metadata": {},
   "outputs": [],
   "source": []
  }
 ],
 "metadata": {
  "kernelspec": {
   "display_name": "Python 3 (ipykernel)",
   "language": "python",
   "name": "python3"
  },
  "language_info": {
   "codemirror_mode": {
    "name": "ipython",
    "version": 3
   },
   "file_extension": ".py",
   "mimetype": "text/x-python",
   "name": "python",
   "nbconvert_exporter": "python",
   "pygments_lexer": "ipython3",
   "version": "3.11.5"
  }
 },
 "nbformat": 4,
 "nbformat_minor": 5
}
