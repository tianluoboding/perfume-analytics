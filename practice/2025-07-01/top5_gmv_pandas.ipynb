{
 "cells": [
  {
   "cell_type": "code",
   "execution_count": 1,
   "id": "be384dde-09fc-4560-8899-ab928bf8cc13",
   "metadata": {},
   "outputs": [
    {
     "name": "stdout",
     "output_type": "stream",
     "text": [
      "SKU ID\n",
      "1729687774097937290    11196.29\n",
      "1729489151029973898     9616.93\n",
      "1729453975318664074     7768.72\n",
      "1729389367503852426     5695.96\n",
      "1729453712811135882     5054.98\n",
      "Name: Order Amount, dtype: float64\n"
     ]
    }
   ],
   "source": [
    "import pandas as pd\n",
    "\n",
    "csv_path = \"/Users/shuooo/Documents/JOBS/sellery.inc/Perfume_projects/AllOrder_0701.csv\"\n",
    "df = pd.read_csv(csv_path, encoding=\"utf-8\")        # pandas 自动跳过 BOM＋Tab\n",
    "\n",
    "# 过去 30 天 GMV Top-5 SKU\n",
    "df['Created Time'] = pd.to_datetime(df['Created Time'])\n",
    "top5 = (df[df['Created Time'] >= pd.Timestamp.today() - pd.Timedelta(days=30)]\n",
    "        .groupby('SKU ID')['Order Amount'].sum()\n",
    "        .nlargest(5))\n",
    "print(top5)"
   ]
  }
 ],
 "metadata": {
  "kernelspec": {
   "display_name": "Python 3 (ipykernel)",
   "language": "python",
   "name": "python3"
  },
  "language_info": {
   "codemirror_mode": {
    "name": "ipython",
    "version": 3
   },
   "file_extension": ".py",
   "mimetype": "text/x-python",
   "name": "python",
   "nbconvert_exporter": "python",
   "pygments_lexer": "ipython3",
   "version": "3.11.5"
  }
 },
 "nbformat": 4,
 "nbformat_minor": 5
}
